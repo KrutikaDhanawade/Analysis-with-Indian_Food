{
 "cells": [
  {
   "cell_type": "markdown",
   "id": "81381f22",
   "metadata": {},
   "source": [
    "# Indian Food Data Analysis Report"
   ]
  },
  {
   "cell_type": "markdown",
   "id": "85b4c726",
   "metadata": {},
   "source": [
    "# Introduction:\n",
    "Our country India is well known for its diversity in culture as well as for its large number of varieties in dishes."
   ]
  },
  {
   "cell_type": "markdown",
   "id": "7ba850e2",
   "metadata": {},
   "source": [
    "# This project is all about analysis of Indian-Food-Dishes data:\n",
    "\n",
    "1.Regional analysis of Indian dishes.\n",
    "\n",
    "2.Statewise analysis of Indian dishes.\n",
    "\n",
    "3.Flavor i.e sweet, sour, spicy of different Indian dishes.\n",
    "\n",
    "4.Veg/Non-veg analysis of Indian dishes.\n"
   ]
  },
  {
   "cell_type": "markdown",
   "id": "76061f9f",
   "metadata": {},
   "source": [
    "# Tools & techniques used in this project:\n",
    "1.A good dataset having all the relevant informations regarding Indian dishes.\n",
    "\n",
    "2.Python pandas library to convert the raw data into workable data frames.\n",
    "\n",
    "3.Python matplotlib & seaborn library for data visualization."
   ]
  },
  {
   "cell_type": "markdown",
   "id": "75f033bd",
   "metadata": {},
   "source": [
    "# Content:"
   ]
  },
  {
   "cell_type": "markdown",
   "id": "492b6c46",
   "metadata": {},
   "source": [
    "\n",
    "Indian cuisine consists of a variety of regional and traditional cuisines native to the Indian subcontinent. Given the diversity in soil, climate, culture, ethnic groups, and occupations, these cuisines vary substantially and use locally available spices, herbs, vegetables, and fruits. Indian food is also heavily influenced by religion, in particular Hinduism, cultural choices and traditions.\n",
    "\n",
    "This dataset consists of information about various Indian dishes, their ingredients, their place of origin, etc."
   ]
  },
  {
   "cell_type": "markdown",
   "id": "734a5093",
   "metadata": {},
   "source": [
    "# Column Description:"
   ]
  },
  {
   "cell_type": "markdown",
   "id": "4754a9ee",
   "metadata": {},
   "source": [
    "    \n",
    "name : name of the dish\n",
    "\n",
    "ingredients : main ingredients used\n",
    "\n",
    "diet : type of diet - either vegetarian or non vegetarian\n",
    "\n",
    "prep_time : preparation time\n",
    "\n",
    "cook_time : cooking time\n",
    "\n",
    "flavor_profile : flavor profile includes whether the dish is spicy, sweet, bitter, etc\n",
    "\n",
    "course : course of meal - starter, main course, dessert, etc\n",
    "\n",
    "state : state where the dish is famous or is originated\n",
    "\n",
    "region : region where the state belongs\n",
    "\n",
    "Presence of -1 in any of the columns indicates NaN value."
   ]
  },
  {
   "cell_type": "code",
   "execution_count": 69,
   "id": "52b69a7b",
   "metadata": {},
   "outputs": [],
   "source": [
    "#import all libraries\n",
    "\n",
    "import numpy as np\n",
    "import pandas as pd\n",
    "import matplotlib.pyplot as plt\n",
    "import seaborn as sns\n",
    "\n",
    "import warnings\n",
    "warnings.filterwarnings(\"ignore\")"
   ]
  },
  {
   "cell_type": "code",
   "execution_count": 71,
   "id": "a293f9aa",
   "metadata": {},
   "outputs": [
    {
     "data": {
      "text/html": [
       "<div>\n",
       "<style scoped>\n",
       "    .dataframe tbody tr th:only-of-type {\n",
       "        vertical-align: middle;\n",
       "    }\n",
       "\n",
       "    .dataframe tbody tr th {\n",
       "        vertical-align: top;\n",
       "    }\n",
       "\n",
       "    .dataframe thead th {\n",
       "        text-align: right;\n",
       "    }\n",
       "</style>\n",
       "<table border=\"1\" class=\"dataframe\">\n",
       "  <thead>\n",
       "    <tr style=\"text-align: right;\">\n",
       "      <th></th>\n",
       "      <th>name</th>\n",
       "      <th>ingredients</th>\n",
       "      <th>diet</th>\n",
       "      <th>prep_time</th>\n",
       "      <th>cook_time</th>\n",
       "      <th>flavor_profile</th>\n",
       "      <th>course</th>\n",
       "      <th>state</th>\n",
       "      <th>region</th>\n",
       "    </tr>\n",
       "  </thead>\n",
       "  <tbody>\n",
       "    <tr>\n",
       "      <th>0</th>\n",
       "      <td>Balu shahi</td>\n",
       "      <td>Maida flour, yogurt, oil, sugar</td>\n",
       "      <td>vegetarian</td>\n",
       "      <td>45</td>\n",
       "      <td>25</td>\n",
       "      <td>sweet</td>\n",
       "      <td>dessert</td>\n",
       "      <td>West Bengal</td>\n",
       "      <td>East</td>\n",
       "    </tr>\n",
       "    <tr>\n",
       "      <th>1</th>\n",
       "      <td>Boondi</td>\n",
       "      <td>Gram flour, ghee, sugar</td>\n",
       "      <td>vegetarian</td>\n",
       "      <td>80</td>\n",
       "      <td>30</td>\n",
       "      <td>sweet</td>\n",
       "      <td>dessert</td>\n",
       "      <td>Rajasthan</td>\n",
       "      <td>West</td>\n",
       "    </tr>\n",
       "    <tr>\n",
       "      <th>2</th>\n",
       "      <td>Gajar ka halwa</td>\n",
       "      <td>Carrots, milk, sugar, ghee, cashews, raisins</td>\n",
       "      <td>vegetarian</td>\n",
       "      <td>15</td>\n",
       "      <td>60</td>\n",
       "      <td>sweet</td>\n",
       "      <td>dessert</td>\n",
       "      <td>Punjab</td>\n",
       "      <td>North</td>\n",
       "    </tr>\n",
       "    <tr>\n",
       "      <th>3</th>\n",
       "      <td>Ghevar</td>\n",
       "      <td>Flour, ghee, kewra, milk, clarified butter, su...</td>\n",
       "      <td>vegetarian</td>\n",
       "      <td>15</td>\n",
       "      <td>30</td>\n",
       "      <td>sweet</td>\n",
       "      <td>dessert</td>\n",
       "      <td>Rajasthan</td>\n",
       "      <td>West</td>\n",
       "    </tr>\n",
       "    <tr>\n",
       "      <th>4</th>\n",
       "      <td>Gulab jamun</td>\n",
       "      <td>Milk powder, plain flour, baking powder, ghee,...</td>\n",
       "      <td>vegetarian</td>\n",
       "      <td>15</td>\n",
       "      <td>40</td>\n",
       "      <td>sweet</td>\n",
       "      <td>dessert</td>\n",
       "      <td>West Bengal</td>\n",
       "      <td>East</td>\n",
       "    </tr>\n",
       "    <tr>\n",
       "      <th>...</th>\n",
       "      <td>...</td>\n",
       "      <td>...</td>\n",
       "      <td>...</td>\n",
       "      <td>...</td>\n",
       "      <td>...</td>\n",
       "      <td>...</td>\n",
       "      <td>...</td>\n",
       "      <td>...</td>\n",
       "      <td>...</td>\n",
       "    </tr>\n",
       "    <tr>\n",
       "      <th>250</th>\n",
       "      <td>Til Pitha</td>\n",
       "      <td>Glutinous rice, black sesame seeds, gur</td>\n",
       "      <td>vegetarian</td>\n",
       "      <td>5</td>\n",
       "      <td>30</td>\n",
       "      <td>sweet</td>\n",
       "      <td>dessert</td>\n",
       "      <td>Assam</td>\n",
       "      <td>North East</td>\n",
       "    </tr>\n",
       "    <tr>\n",
       "      <th>251</th>\n",
       "      <td>Bebinca</td>\n",
       "      <td>Coconut milk, egg yolks, clarified butter, all...</td>\n",
       "      <td>vegetarian</td>\n",
       "      <td>20</td>\n",
       "      <td>60</td>\n",
       "      <td>sweet</td>\n",
       "      <td>dessert</td>\n",
       "      <td>Goa</td>\n",
       "      <td>West</td>\n",
       "    </tr>\n",
       "    <tr>\n",
       "      <th>252</th>\n",
       "      <td>Shufta</td>\n",
       "      <td>Cottage cheese, dry dates, dried rose petals, ...</td>\n",
       "      <td>vegetarian</td>\n",
       "      <td>-1</td>\n",
       "      <td>-1</td>\n",
       "      <td>sweet</td>\n",
       "      <td>dessert</td>\n",
       "      <td>Jammu &amp; Kashmir</td>\n",
       "      <td>North</td>\n",
       "    </tr>\n",
       "    <tr>\n",
       "      <th>253</th>\n",
       "      <td>Mawa Bati</td>\n",
       "      <td>Milk powder, dry fruits, arrowroot powder, all...</td>\n",
       "      <td>vegetarian</td>\n",
       "      <td>20</td>\n",
       "      <td>45</td>\n",
       "      <td>sweet</td>\n",
       "      <td>dessert</td>\n",
       "      <td>Madhya Pradesh</td>\n",
       "      <td>Central</td>\n",
       "    </tr>\n",
       "    <tr>\n",
       "      <th>254</th>\n",
       "      <td>Pinaca</td>\n",
       "      <td>Brown rice, fennel seeds, grated coconut, blac...</td>\n",
       "      <td>vegetarian</td>\n",
       "      <td>-1</td>\n",
       "      <td>-1</td>\n",
       "      <td>sweet</td>\n",
       "      <td>dessert</td>\n",
       "      <td>Goa</td>\n",
       "      <td>West</td>\n",
       "    </tr>\n",
       "  </tbody>\n",
       "</table>\n",
       "<p>255 rows × 9 columns</p>\n",
       "</div>"
      ],
      "text/plain": [
       "               name                                        ingredients  \\\n",
       "0        Balu shahi                    Maida flour, yogurt, oil, sugar   \n",
       "1            Boondi                            Gram flour, ghee, sugar   \n",
       "2    Gajar ka halwa       Carrots, milk, sugar, ghee, cashews, raisins   \n",
       "3            Ghevar  Flour, ghee, kewra, milk, clarified butter, su...   \n",
       "4       Gulab jamun  Milk powder, plain flour, baking powder, ghee,...   \n",
       "..              ...                                                ...   \n",
       "250       Til Pitha            Glutinous rice, black sesame seeds, gur   \n",
       "251         Bebinca  Coconut milk, egg yolks, clarified butter, all...   \n",
       "252          Shufta  Cottage cheese, dry dates, dried rose petals, ...   \n",
       "253       Mawa Bati  Milk powder, dry fruits, arrowroot powder, all...   \n",
       "254          Pinaca  Brown rice, fennel seeds, grated coconut, blac...   \n",
       "\n",
       "           diet  prep_time  cook_time flavor_profile   course  \\\n",
       "0    vegetarian         45         25          sweet  dessert   \n",
       "1    vegetarian         80         30          sweet  dessert   \n",
       "2    vegetarian         15         60          sweet  dessert   \n",
       "3    vegetarian         15         30          sweet  dessert   \n",
       "4    vegetarian         15         40          sweet  dessert   \n",
       "..          ...        ...        ...            ...      ...   \n",
       "250  vegetarian          5         30          sweet  dessert   \n",
       "251  vegetarian         20         60          sweet  dessert   \n",
       "252  vegetarian         -1         -1          sweet  dessert   \n",
       "253  vegetarian         20         45          sweet  dessert   \n",
       "254  vegetarian         -1         -1          sweet  dessert   \n",
       "\n",
       "               state      region  \n",
       "0        West Bengal        East  \n",
       "1          Rajasthan        West  \n",
       "2             Punjab       North  \n",
       "3          Rajasthan        West  \n",
       "4        West Bengal        East  \n",
       "..               ...         ...  \n",
       "250            Assam  North East  \n",
       "251              Goa        West  \n",
       "252  Jammu & Kashmir       North  \n",
       "253   Madhya Pradesh     Central  \n",
       "254              Goa        West  \n",
       "\n",
       "[255 rows x 9 columns]"
      ]
     },
     "execution_count": 71,
     "metadata": {},
     "output_type": "execute_result"
    }
   ],
   "source": [
    "# Read csv file\n",
    "\n",
    "df = pd.read_csv(\"indian_food.csv\")\n",
    "df"
   ]
  },
  {
   "cell_type": "code",
   "execution_count": 3,
   "id": "6cad3d0e",
   "metadata": {},
   "outputs": [
    {
     "data": {
      "text/html": [
       "<div>\n",
       "<style scoped>\n",
       "    .dataframe tbody tr th:only-of-type {\n",
       "        vertical-align: middle;\n",
       "    }\n",
       "\n",
       "    .dataframe tbody tr th {\n",
       "        vertical-align: top;\n",
       "    }\n",
       "\n",
       "    .dataframe thead th {\n",
       "        text-align: right;\n",
       "    }\n",
       "</style>\n",
       "<table border=\"1\" class=\"dataframe\">\n",
       "  <thead>\n",
       "    <tr style=\"text-align: right;\">\n",
       "      <th></th>\n",
       "      <th>name</th>\n",
       "      <th>ingredients</th>\n",
       "      <th>diet</th>\n",
       "      <th>prep_time</th>\n",
       "      <th>cook_time</th>\n",
       "      <th>flavor_profile</th>\n",
       "      <th>course</th>\n",
       "      <th>state</th>\n",
       "      <th>region</th>\n",
       "    </tr>\n",
       "  </thead>\n",
       "  <tbody>\n",
       "    <tr>\n",
       "      <th>0</th>\n",
       "      <td>Balu shahi</td>\n",
       "      <td>Maida flour, yogurt, oil, sugar</td>\n",
       "      <td>vegetarian</td>\n",
       "      <td>45</td>\n",
       "      <td>25</td>\n",
       "      <td>sweet</td>\n",
       "      <td>dessert</td>\n",
       "      <td>West Bengal</td>\n",
       "      <td>East</td>\n",
       "    </tr>\n",
       "    <tr>\n",
       "      <th>1</th>\n",
       "      <td>Boondi</td>\n",
       "      <td>Gram flour, ghee, sugar</td>\n",
       "      <td>vegetarian</td>\n",
       "      <td>80</td>\n",
       "      <td>30</td>\n",
       "      <td>sweet</td>\n",
       "      <td>dessert</td>\n",
       "      <td>Rajasthan</td>\n",
       "      <td>West</td>\n",
       "    </tr>\n",
       "    <tr>\n",
       "      <th>2</th>\n",
       "      <td>Gajar ka halwa</td>\n",
       "      <td>Carrots, milk, sugar, ghee, cashews, raisins</td>\n",
       "      <td>vegetarian</td>\n",
       "      <td>15</td>\n",
       "      <td>60</td>\n",
       "      <td>sweet</td>\n",
       "      <td>dessert</td>\n",
       "      <td>Punjab</td>\n",
       "      <td>North</td>\n",
       "    </tr>\n",
       "    <tr>\n",
       "      <th>3</th>\n",
       "      <td>Ghevar</td>\n",
       "      <td>Flour, ghee, kewra, milk, clarified butter, su...</td>\n",
       "      <td>vegetarian</td>\n",
       "      <td>15</td>\n",
       "      <td>30</td>\n",
       "      <td>sweet</td>\n",
       "      <td>dessert</td>\n",
       "      <td>Rajasthan</td>\n",
       "      <td>West</td>\n",
       "    </tr>\n",
       "    <tr>\n",
       "      <th>4</th>\n",
       "      <td>Gulab jamun</td>\n",
       "      <td>Milk powder, plain flour, baking powder, ghee,...</td>\n",
       "      <td>vegetarian</td>\n",
       "      <td>15</td>\n",
       "      <td>40</td>\n",
       "      <td>sweet</td>\n",
       "      <td>dessert</td>\n",
       "      <td>West Bengal</td>\n",
       "      <td>East</td>\n",
       "    </tr>\n",
       "  </tbody>\n",
       "</table>\n",
       "</div>"
      ],
      "text/plain": [
       "             name                                        ingredients  \\\n",
       "0      Balu shahi                    Maida flour, yogurt, oil, sugar   \n",
       "1          Boondi                            Gram flour, ghee, sugar   \n",
       "2  Gajar ka halwa       Carrots, milk, sugar, ghee, cashews, raisins   \n",
       "3          Ghevar  Flour, ghee, kewra, milk, clarified butter, su...   \n",
       "4     Gulab jamun  Milk powder, plain flour, baking powder, ghee,...   \n",
       "\n",
       "         diet  prep_time  cook_time flavor_profile   course        state  \\\n",
       "0  vegetarian         45         25          sweet  dessert  West Bengal   \n",
       "1  vegetarian         80         30          sweet  dessert    Rajasthan   \n",
       "2  vegetarian         15         60          sweet  dessert       Punjab   \n",
       "3  vegetarian         15         30          sweet  dessert    Rajasthan   \n",
       "4  vegetarian         15         40          sweet  dessert  West Bengal   \n",
       "\n",
       "  region  \n",
       "0   East  \n",
       "1   West  \n",
       "2  North  \n",
       "3   West  \n",
       "4   East  "
      ]
     },
     "execution_count": 3,
     "metadata": {},
     "output_type": "execute_result"
    }
   ],
   "source": [
    "df.head()"
   ]
  },
  {
   "cell_type": "code",
   "execution_count": 4,
   "id": "4c385a94",
   "metadata": {},
   "outputs": [
    {
     "data": {
      "text/html": [
       "<div>\n",
       "<style scoped>\n",
       "    .dataframe tbody tr th:only-of-type {\n",
       "        vertical-align: middle;\n",
       "    }\n",
       "\n",
       "    .dataframe tbody tr th {\n",
       "        vertical-align: top;\n",
       "    }\n",
       "\n",
       "    .dataframe thead th {\n",
       "        text-align: right;\n",
       "    }\n",
       "</style>\n",
       "<table border=\"1\" class=\"dataframe\">\n",
       "  <thead>\n",
       "    <tr style=\"text-align: right;\">\n",
       "      <th></th>\n",
       "      <th>name</th>\n",
       "      <th>ingredients</th>\n",
       "      <th>diet</th>\n",
       "      <th>prep_time</th>\n",
       "      <th>cook_time</th>\n",
       "      <th>flavor_profile</th>\n",
       "      <th>course</th>\n",
       "      <th>state</th>\n",
       "      <th>region</th>\n",
       "    </tr>\n",
       "  </thead>\n",
       "  <tbody>\n",
       "    <tr>\n",
       "      <th>250</th>\n",
       "      <td>Til Pitha</td>\n",
       "      <td>Glutinous rice, black sesame seeds, gur</td>\n",
       "      <td>vegetarian</td>\n",
       "      <td>5</td>\n",
       "      <td>30</td>\n",
       "      <td>sweet</td>\n",
       "      <td>dessert</td>\n",
       "      <td>Assam</td>\n",
       "      <td>North East</td>\n",
       "    </tr>\n",
       "    <tr>\n",
       "      <th>251</th>\n",
       "      <td>Bebinca</td>\n",
       "      <td>Coconut milk, egg yolks, clarified butter, all...</td>\n",
       "      <td>vegetarian</td>\n",
       "      <td>20</td>\n",
       "      <td>60</td>\n",
       "      <td>sweet</td>\n",
       "      <td>dessert</td>\n",
       "      <td>Goa</td>\n",
       "      <td>West</td>\n",
       "    </tr>\n",
       "    <tr>\n",
       "      <th>252</th>\n",
       "      <td>Shufta</td>\n",
       "      <td>Cottage cheese, dry dates, dried rose petals, ...</td>\n",
       "      <td>vegetarian</td>\n",
       "      <td>-1</td>\n",
       "      <td>-1</td>\n",
       "      <td>sweet</td>\n",
       "      <td>dessert</td>\n",
       "      <td>Jammu &amp; Kashmir</td>\n",
       "      <td>North</td>\n",
       "    </tr>\n",
       "    <tr>\n",
       "      <th>253</th>\n",
       "      <td>Mawa Bati</td>\n",
       "      <td>Milk powder, dry fruits, arrowroot powder, all...</td>\n",
       "      <td>vegetarian</td>\n",
       "      <td>20</td>\n",
       "      <td>45</td>\n",
       "      <td>sweet</td>\n",
       "      <td>dessert</td>\n",
       "      <td>Madhya Pradesh</td>\n",
       "      <td>Central</td>\n",
       "    </tr>\n",
       "    <tr>\n",
       "      <th>254</th>\n",
       "      <td>Pinaca</td>\n",
       "      <td>Brown rice, fennel seeds, grated coconut, blac...</td>\n",
       "      <td>vegetarian</td>\n",
       "      <td>-1</td>\n",
       "      <td>-1</td>\n",
       "      <td>sweet</td>\n",
       "      <td>dessert</td>\n",
       "      <td>Goa</td>\n",
       "      <td>West</td>\n",
       "    </tr>\n",
       "  </tbody>\n",
       "</table>\n",
       "</div>"
      ],
      "text/plain": [
       "          name                                        ingredients        diet  \\\n",
       "250  Til Pitha            Glutinous rice, black sesame seeds, gur  vegetarian   \n",
       "251    Bebinca  Coconut milk, egg yolks, clarified butter, all...  vegetarian   \n",
       "252     Shufta  Cottage cheese, dry dates, dried rose petals, ...  vegetarian   \n",
       "253  Mawa Bati  Milk powder, dry fruits, arrowroot powder, all...  vegetarian   \n",
       "254     Pinaca  Brown rice, fennel seeds, grated coconut, blac...  vegetarian   \n",
       "\n",
       "     prep_time  cook_time flavor_profile   course            state      region  \n",
       "250          5         30          sweet  dessert            Assam  North East  \n",
       "251         20         60          sweet  dessert              Goa        West  \n",
       "252         -1         -1          sweet  dessert  Jammu & Kashmir       North  \n",
       "253         20         45          sweet  dessert   Madhya Pradesh     Central  \n",
       "254         -1         -1          sweet  dessert              Goa        West  "
      ]
     },
     "execution_count": 4,
     "metadata": {},
     "output_type": "execute_result"
    }
   ],
   "source": [
    "df.tail()"
   ]
  },
  {
   "cell_type": "code",
   "execution_count": 5,
   "id": "29e3d1ce",
   "metadata": {},
   "outputs": [
    {
     "name": "stdout",
     "output_type": "stream",
     "text": [
      "<class 'pandas.core.frame.DataFrame'>\n",
      "RangeIndex: 255 entries, 0 to 254\n",
      "Data columns (total 9 columns):\n",
      " #   Column          Non-Null Count  Dtype \n",
      "---  ------          --------------  ----- \n",
      " 0   name            255 non-null    object\n",
      " 1   ingredients     255 non-null    object\n",
      " 2   diet            255 non-null    object\n",
      " 3   prep_time       255 non-null    int64 \n",
      " 4   cook_time       255 non-null    int64 \n",
      " 5   flavor_profile  255 non-null    object\n",
      " 6   course          255 non-null    object\n",
      " 7   state           255 non-null    object\n",
      " 8   region          254 non-null    object\n",
      "dtypes: int64(2), object(7)\n",
      "memory usage: 18.1+ KB\n"
     ]
    }
   ],
   "source": [
    "df.info()"
   ]
  },
  {
   "cell_type": "markdown",
   "id": "060e1c9c",
   "metadata": {},
   "source": [
    "There are 255 rows with 9 columns.\n",
    "\n",
    "All columns are object datatype expect prep_time and cook_time"
   ]
  },
  {
   "cell_type": "code",
   "execution_count": 79,
   "id": "cbe337a8",
   "metadata": {},
   "outputs": [
    {
     "data": {
      "text/html": [
       "<div>\n",
       "<style scoped>\n",
       "    .dataframe tbody tr th:only-of-type {\n",
       "        vertical-align: middle;\n",
       "    }\n",
       "\n",
       "    .dataframe tbody tr th {\n",
       "        vertical-align: top;\n",
       "    }\n",
       "\n",
       "    .dataframe thead th {\n",
       "        text-align: right;\n",
       "    }\n",
       "</style>\n",
       "<table border=\"1\" class=\"dataframe\">\n",
       "  <thead>\n",
       "    <tr style=\"text-align: right;\">\n",
       "      <th></th>\n",
       "      <th>prep_time</th>\n",
       "      <th>cook_time</th>\n",
       "    </tr>\n",
       "  </thead>\n",
       "  <tbody>\n",
       "    <tr>\n",
       "      <th>count</th>\n",
       "      <td>255.000000</td>\n",
       "      <td>255.000000</td>\n",
       "    </tr>\n",
       "    <tr>\n",
       "      <th>mean</th>\n",
       "      <td>31.105882</td>\n",
       "      <td>34.529412</td>\n",
       "    </tr>\n",
       "    <tr>\n",
       "      <th>std</th>\n",
       "      <td>72.554409</td>\n",
       "      <td>48.265650</td>\n",
       "    </tr>\n",
       "    <tr>\n",
       "      <th>min</th>\n",
       "      <td>-1.000000</td>\n",
       "      <td>-1.000000</td>\n",
       "    </tr>\n",
       "    <tr>\n",
       "      <th>25%</th>\n",
       "      <td>10.000000</td>\n",
       "      <td>20.000000</td>\n",
       "    </tr>\n",
       "    <tr>\n",
       "      <th>50%</th>\n",
       "      <td>10.000000</td>\n",
       "      <td>30.000000</td>\n",
       "    </tr>\n",
       "    <tr>\n",
       "      <th>75%</th>\n",
       "      <td>20.000000</td>\n",
       "      <td>40.000000</td>\n",
       "    </tr>\n",
       "    <tr>\n",
       "      <th>max</th>\n",
       "      <td>500.000000</td>\n",
       "      <td>720.000000</td>\n",
       "    </tr>\n",
       "  </tbody>\n",
       "</table>\n",
       "</div>"
      ],
      "text/plain": [
       "        prep_time   cook_time\n",
       "count  255.000000  255.000000\n",
       "mean    31.105882   34.529412\n",
       "std     72.554409   48.265650\n",
       "min     -1.000000   -1.000000\n",
       "25%     10.000000   20.000000\n",
       "50%     10.000000   30.000000\n",
       "75%     20.000000   40.000000\n",
       "max    500.000000  720.000000"
      ]
     },
     "execution_count": 79,
     "metadata": {},
     "output_type": "execute_result"
    }
   ],
   "source": [
    "df.describe()"
   ]
  },
  {
   "cell_type": "code",
   "execution_count": 68,
   "id": "36578f74",
   "metadata": {},
   "outputs": [
    {
     "name": "stdout",
     "output_type": "stream",
     "text": [
      "['vegetarian' 'non vegetarian']\n",
      "['sweet' 'spicy' 'bitter' 'Others' 'sour']\n",
      "['dessert' 'main course' 'starter' 'snack']\n",
      "['East' 'West' 'North' '-1' 'North East' 'South' 'Central']\n",
      "['West Bengal' 'Rajasthan' 'Punjab' 'Uttar Pradesh' '-1' 'Odisha'\n",
      " 'Maharashtra' 'Uttarakhand' 'Assam' 'Bihar' 'Andhra Pradesh' 'Karnataka'\n",
      " 'Telangana' 'Kerala' 'Tamil Nadu' 'Gujarat' 'Tripura' 'Manipur'\n",
      " 'Nagaland' 'NCT of Delhi' 'Jammu & Kashmir' 'Chhattisgarh' 'Haryana'\n",
      " 'Madhya Pradesh' 'Goa']\n"
     ]
    }
   ],
   "source": [
    "# unique values\n",
    "\n",
    "print(df['diet'].unique())\n",
    "print(df['flavor_profile'].unique())\n",
    "print(df['course'].unique())\n",
    "print(df['region'].unique())\n",
    "print(df['state'].unique())"
   ]
  },
  {
   "cell_type": "code",
   "execution_count": 6,
   "id": "8c463967",
   "metadata": {},
   "outputs": [
    {
     "data": {
      "text/plain": [
       "name              0\n",
       "ingredients       0\n",
       "diet              0\n",
       "prep_time         0\n",
       "cook_time         0\n",
       "flavor_profile    0\n",
       "course            0\n",
       "state             0\n",
       "region            1\n",
       "dtype: int64"
      ]
     },
     "execution_count": 6,
     "metadata": {},
     "output_type": "execute_result"
    }
   ],
   "source": [
    "#null values\n",
    "df.isnull().sum()"
   ]
  },
  {
   "cell_type": "code",
   "execution_count": 7,
   "id": "a5239eaa",
   "metadata": {},
   "outputs": [
    {
     "data": {
      "text/plain": [
       "name              0\n",
       "ingredients       0\n",
       "diet              0\n",
       "prep_time         0\n",
       "cook_time         0\n",
       "flavor_profile    0\n",
       "course            0\n",
       "state             0\n",
       "region            0\n",
       "dtype: int64"
      ]
     },
     "execution_count": 7,
     "metadata": {},
     "output_type": "execute_result"
    }
   ],
   "source": [
    "#removing null value\n",
    "df.dropna(subset=[\"region\"],inplace=True)\n",
    "df.isnull().sum()"
   ]
  },
  {
   "cell_type": "code",
   "execution_count": 12,
   "id": "0ddb9d5a",
   "metadata": {},
   "outputs": [
    {
     "data": {
      "text/plain": [
       "Index(['name', 'ingredients', 'diet', 'prep_time', 'cook_time',\n",
       "       'flavor_profile', 'course', 'state', 'region'],\n",
       "      dtype='object')"
      ]
     },
     "execution_count": 12,
     "metadata": {},
     "output_type": "execute_result"
    }
   ],
   "source": [
    "# lets see columns\n",
    "df.columns"
   ]
  },
  {
   "cell_type": "code",
   "execution_count": 8,
   "id": "e90229d3",
   "metadata": {},
   "outputs": [
    {
     "data": {
      "text/plain": [
       "0    vegetarian\n",
       "dtype: object"
      ]
     },
     "execution_count": 8,
     "metadata": {},
     "output_type": "execute_result"
    }
   ],
   "source": [
    "#maximum people which diet follows\n",
    "\n",
    "df[\"diet\"].mode()"
   ]
  },
  {
   "cell_type": "code",
   "execution_count": 9,
   "id": "aeef7e9e",
   "metadata": {},
   "outputs": [
    {
     "data": {
      "text/plain": [
       "0    West\n",
       "dtype: object"
      ]
     },
     "execution_count": 9,
     "metadata": {},
     "output_type": "execute_result"
    }
   ],
   "source": [
    "# maximum in region\n",
    "\n",
    "df[\"region\"].mode()"
   ]
  },
  {
   "cell_type": "code",
   "execution_count": 81,
   "id": "2c49536f",
   "metadata": {},
   "outputs": [
    {
     "data": {
      "text/plain": [
       "main course    129\n",
       "dessert         85\n",
       "snack           39\n",
       "starter          2\n",
       "Name: course, dtype: int64"
      ]
     },
     "execution_count": 81,
     "metadata": {},
     "output_type": "execute_result"
    }
   ],
   "source": [
    "# coursewise No. of dishes\n",
    "\n",
    "course_count=df[\"course\"].value_counts()\n",
    "course_count"
   ]
  },
  {
   "cell_type": "code",
   "execution_count": 87,
   "id": "cfeea7e8",
   "metadata": {},
   "outputs": [
    {
     "data": {
      "image/png": "[encoded data removed]",
      "text/plain": [
       "<Figure size 720x576 with 1 Axes>"
      ]
     },
     "metadata": {},
     "output_type": "display_data"
    }
   ],
   "source": [
    "plt.figure(figsize=(10,8))\n",
    "plt.title(\"Coursewise distribution of Indian Dishes\")\n",
    "plt.pie(course_count,autopct=\"%1.1f%%\",labels=course_count.index)\n",
    "plt.show()"
   ]
  },
  {
   "cell_type": "markdown",
   "id": "1ce4e2c4",
   "metadata": {},
   "source": [
    "The pie chart clearly shows the coursewise distribution of Indian dishes.\n",
    "\n",
    "1.About 46% of Indian dishes comes under main course which is the highest among all courses.\n",
    "\n",
    "2.And only 1% of Indian dishes comes under starter which is the least among all courses.\n"
   ]
  },
  {
   "cell_type": "code",
   "execution_count": 77,
   "id": "d693d380",
   "metadata": {},
   "outputs": [
    {
     "data": {
      "text/plain": [
       "<AxesSubplot:ylabel='diet'>"
      ]
     },
     "execution_count": 77,
     "metadata": {},
     "output_type": "execute_result"
    },
    {
     "data": {
      "image/png": "[encoded data removed]",
      "text/plain": [
       "<Figure size 504x504 with 1 Axes>"
      ]
     },
     "metadata": {},
     "output_type": "display_data"
    }
   ],
   "source": [
    "# let create pie chart on diet\n",
    "\n",
    "plt.figure(figsize=(7,7))\n",
    "df[\"diet\"].value_counts().plot.pie(autopct='%1.2f%%',explode=(0.1,0))"
   ]
  },
  {
   "cell_type": "markdown",
   "id": "24bc233d",
   "metadata": {},
   "source": [
    "The pie chart clearly shows the dietwise distribution of Indian dishes.\n",
    "\n",
    "1.About 88.63% of Indian dishes are veg.\n",
    "\n",
    "2.And only 11.37% of Indian dishes are Non-veg."
   ]
  },
  {
   "cell_type": "code",
   "execution_count": 13,
   "id": "ea0cdca8",
   "metadata": {},
   "outputs": [
    {
     "data": {
      "text/plain": [
       "flavor_profile  course     \n",
       "spicy           main course    96\n",
       "sweet           dessert        84\n",
       "spicy           snack          35\n",
       "-1              main course    26\n",
       "                snack           3\n",
       "bitter          main course     3\n",
       "sweet           main course     3\n",
       "spicy           starter         2\n",
       "bitter          snack           1\n",
       "sour            main course     1\n",
       "dtype: int64"
      ]
     },
     "execution_count": 13,
     "metadata": {},
     "output_type": "execute_result"
    }
   ],
   "source": [
    "df[[\"flavor_profile\",\"course\"]].value_counts()"
   ]
  },
  {
   "cell_type": "code",
   "execution_count": 14,
   "id": "146b45e8",
   "metadata": {},
   "outputs": [
    {
     "data": {
      "text/plain": [
       "spicy     133\n",
       "sweet      87\n",
       "Others     29\n",
       "bitter      4\n",
       "sour        1\n",
       "Name: flavor_profile, dtype: int64"
      ]
     },
     "execution_count": 14,
     "metadata": {},
     "output_type": "execute_result"
    }
   ],
   "source": [
    "# replacing -1 in flavor_profile to other\n",
    "\n",
    "df.flavor_profile.replace([\"-1\"],[\"Others\"],inplace=True)\n",
    "df[\"flavor_profile\"].value_counts()"
   ]
  },
  {
   "cell_type": "code",
   "execution_count": 30,
   "id": "ecd19cb0",
   "metadata": {},
   "outputs": [
    {
     "data": {
      "image/png": "[encoded data removed]",
      "text/plain": [
       "<Figure size 720x720 with 1 Axes>"
      ]
     },
     "metadata": {},
     "output_type": "display_data"
    }
   ],
   "source": [
    "plt.figure(figsize=(10,10))\n",
    "df[\"flavor_profile\"].value_counts().plot.pie(autopct=\"%1.0f%%\")\n",
    "plt.title(\"Flavor_profile\")\n",
    "plt.show()"
   ]
  },
  {
   "cell_type": "markdown",
   "id": "b3ae7ae9",
   "metadata": {},
   "source": [
    "The pie chart clearly shows the flavorwise distribution of Indian dishes.\n",
    "\n",
    "About 56.7% of Indian dishes are spicy which is the highest among all flavors.\n",
    "\n",
    "And only 0.6% of Indian dishes are sour which is the least among all flavors."
   ]
  },
  {
   "cell_type": "code",
   "execution_count": 18,
   "id": "04248520",
   "metadata": {},
   "outputs": [
    {
     "data": {
      "text/plain": [
       "flavor_profile  course     \n",
       "sweet           dessert        84\n",
       "                main course     3\n",
       "dtype: int64"
      ]
     },
     "execution_count": 18,
     "metadata": {},
     "output_type": "execute_result"
    }
   ],
   "source": [
    "#course types under sweet flavor_profile type\n",
    "df.loc[df[\"flavor_profile\"]==\"sweet\",[\"flavor_profile\",\"course\"]].value_counts()"
   ]
  },
  {
   "cell_type": "code",
   "execution_count": 22,
   "id": "67924c95",
   "metadata": {},
   "outputs": [
    {
     "data": {
      "text/html": [
       "<div>\n",
       "<style scoped>\n",
       "    .dataframe tbody tr th:only-of-type {\n",
       "        vertical-align: middle;\n",
       "    }\n",
       "\n",
       "    .dataframe tbody tr th {\n",
       "        vertical-align: top;\n",
       "    }\n",
       "\n",
       "    .dataframe thead th {\n",
       "        text-align: right;\n",
       "    }\n",
       "</style>\n",
       "<table border=\"1\" class=\"dataframe\">\n",
       "  <thead>\n",
       "    <tr style=\"text-align: right;\">\n",
       "      <th></th>\n",
       "      <th>ingredients</th>\n",
       "    </tr>\n",
       "  </thead>\n",
       "  <tbody>\n",
       "    <tr>\n",
       "      <th>Chhena, sugar, ghee</th>\n",
       "      <td>2</td>\n",
       "    </tr>\n",
       "    <tr>\n",
       "      <th>Gram flour, ghee, sugar</th>\n",
       "      <td>2</td>\n",
       "    </tr>\n",
       "    <tr>\n",
       "      <th>Arbi ke patte, sesame seeds, gur, bengal gram flour, imli</th>\n",
       "      <td>2</td>\n",
       "    </tr>\n",
       "    <tr>\n",
       "      <th>Baby potatoes, garam masala, cashew nuts, kasuri methi, tomatoes</th>\n",
       "      <td>1</td>\n",
       "    </tr>\n",
       "    <tr>\n",
       "      <th>Whole wheat flour, low fat, bengal gram flour</th>\n",
       "      <td>1</td>\n",
       "    </tr>\n",
       "    <tr>\n",
       "      <th>...</th>\n",
       "      <td>...</td>\n",
       "    </tr>\n",
       "    <tr>\n",
       "      <th>Moong dal, chana dal, cabbage, tamarind, curry leaves</th>\n",
       "      <td>1</td>\n",
       "    </tr>\n",
       "    <tr>\n",
       "      <th>Black lentils, rice</th>\n",
       "      <td>1</td>\n",
       "    </tr>\n",
       "    <tr>\n",
       "      <th>Pigeon peas, garam masala, ginger, red onion, kasuri methi</th>\n",
       "      <td>1</td>\n",
       "    </tr>\n",
       "    <tr>\n",
       "      <th>Yogurt, ginger, curry leaves, baking soda, green chilli</th>\n",
       "      <td>1</td>\n",
       "    </tr>\n",
       "    <tr>\n",
       "      <th>Flour, cream, sugar, saffron, lemon juice, coconut flakes</th>\n",
       "      <td>1</td>\n",
       "    </tr>\n",
       "  </tbody>\n",
       "</table>\n",
       "<p>251 rows × 1 columns</p>\n",
       "</div>"
      ],
      "text/plain": [
       "                                                    ingredients\n",
       "Chhena, sugar, ghee                                           2\n",
       "Gram flour, ghee, sugar                                       2\n",
       "Arbi ke patte, sesame seeds, gur, bengal gram f...            2\n",
       "Baby potatoes, garam masala, cashew nuts, kasur...            1\n",
       "Whole wheat flour, low fat, bengal gram flour                 1\n",
       "...                                                         ...\n",
       "Moong dal, chana dal, cabbage, tamarind, curry ...            1\n",
       "Black lentils, rice                                           1\n",
       "Pigeon peas, garam masala, ginger, red onion, k...            1\n",
       "Yogurt, ginger, curry leaves, baking soda, gree...            1\n",
       "Flour, cream, sugar, saffron, lemon juice, coco...            1\n",
       "\n",
       "[251 rows x 1 columns]"
      ]
     },
     "execution_count": 22,
     "metadata": {},
     "output_type": "execute_result"
    }
   ],
   "source": [
    "c=df[\"ingredients\"].value_counts()\n",
    "pd.DataFrame(c)"
   ]
  },
  {
   "cell_type": "code",
   "execution_count": 46,
   "id": "fc11085b",
   "metadata": {},
   "outputs": [
    {
     "data": {
      "text/html": [
       "<div>\n",
       "<style scoped>\n",
       "    .dataframe tbody tr th:only-of-type {\n",
       "        vertical-align: middle;\n",
       "    }\n",
       "\n",
       "    .dataframe tbody tr th {\n",
       "        vertical-align: top;\n",
       "    }\n",
       "\n",
       "    .dataframe thead tr th {\n",
       "        text-align: left;\n",
       "    }\n",
       "\n",
       "    .dataframe thead tr:last-of-type th {\n",
       "        text-align: right;\n",
       "    }\n",
       "</style>\n",
       "<table border=\"1\" class=\"dataframe\">\n",
       "  <thead>\n",
       "    <tr>\n",
       "      <th></th>\n",
       "      <th></th>\n",
       "      <th colspan=\"3\" halign=\"left\">cook_time</th>\n",
       "      <th colspan=\"3\" halign=\"left\">prep_time</th>\n",
       "    </tr>\n",
       "    <tr>\n",
       "      <th></th>\n",
       "      <th></th>\n",
       "      <th>min</th>\n",
       "      <th>max</th>\n",
       "      <th>mean</th>\n",
       "      <th>min</th>\n",
       "      <th>max</th>\n",
       "      <th>mean</th>\n",
       "    </tr>\n",
       "    <tr>\n",
       "      <th>flavor_profile</th>\n",
       "      <th>course</th>\n",
       "      <th></th>\n",
       "      <th></th>\n",
       "      <th></th>\n",
       "      <th></th>\n",
       "      <th></th>\n",
       "      <th></th>\n",
       "    </tr>\n",
       "  </thead>\n",
       "  <tbody>\n",
       "    <tr>\n",
       "      <th rowspan=\"2\" valign=\"top\">Others</th>\n",
       "      <th>main course</th>\n",
       "      <td>-1</td>\n",
       "      <td>60</td>\n",
       "      <td>22.346154</td>\n",
       "      <td>-1</td>\n",
       "      <td>495</td>\n",
       "      <td>38.884615</td>\n",
       "    </tr>\n",
       "    <tr>\n",
       "      <th>snack</th>\n",
       "      <td>-1</td>\n",
       "      <td>45</td>\n",
       "      <td>24.666667</td>\n",
       "      <td>-1</td>\n",
       "      <td>30</td>\n",
       "      <td>13.000000</td>\n",
       "    </tr>\n",
       "    <tr>\n",
       "      <th rowspan=\"2\" valign=\"top\">bitter</th>\n",
       "      <th>main course</th>\n",
       "      <td>30</td>\n",
       "      <td>50</td>\n",
       "      <td>40.000000</td>\n",
       "      <td>10</td>\n",
       "      <td>20</td>\n",
       "      <td>15.000000</td>\n",
       "    </tr>\n",
       "    <tr>\n",
       "      <th>snack</th>\n",
       "      <td>30</td>\n",
       "      <td>30</td>\n",
       "      <td>30.000000</td>\n",
       "      <td>15</td>\n",
       "      <td>15</td>\n",
       "      <td>15.000000</td>\n",
       "    </tr>\n",
       "    <tr>\n",
       "      <th>sour</th>\n",
       "      <th>main course</th>\n",
       "      <td>10</td>\n",
       "      <td>10</td>\n",
       "      <td>10.000000</td>\n",
       "      <td>10</td>\n",
       "      <td>10</td>\n",
       "      <td>10.000000</td>\n",
       "    </tr>\n",
       "    <tr>\n",
       "      <th rowspan=\"3\" valign=\"top\">spicy</th>\n",
       "      <th>main course</th>\n",
       "      <td>-1</td>\n",
       "      <td>120</td>\n",
       "      <td>31.250000</td>\n",
       "      <td>-1</td>\n",
       "      <td>500</td>\n",
       "      <td>20.625000</td>\n",
       "    </tr>\n",
       "    <tr>\n",
       "      <th>snack</th>\n",
       "      <td>-1</td>\n",
       "      <td>90</td>\n",
       "      <td>29.457143</td>\n",
       "      <td>-1</td>\n",
       "      <td>360</td>\n",
       "      <td>56.371429</td>\n",
       "    </tr>\n",
       "    <tr>\n",
       "      <th>starter</th>\n",
       "      <td>30</td>\n",
       "      <td>45</td>\n",
       "      <td>37.500000</td>\n",
       "      <td>120</td>\n",
       "      <td>240</td>\n",
       "      <td>180.000000</td>\n",
       "    </tr>\n",
       "    <tr>\n",
       "      <th rowspan=\"2\" valign=\"top\">sweet</th>\n",
       "      <th>dessert</th>\n",
       "      <td>-1</td>\n",
       "      <td>720</td>\n",
       "      <td>44.154762</td>\n",
       "      <td>-1</td>\n",
       "      <td>480</td>\n",
       "      <td>27.250000</td>\n",
       "    </tr>\n",
       "    <tr>\n",
       "      <th>main course</th>\n",
       "      <td>30</td>\n",
       "      <td>60</td>\n",
       "      <td>50.000000</td>\n",
       "      <td>10</td>\n",
       "      <td>180</td>\n",
       "      <td>66.666667</td>\n",
       "    </tr>\n",
       "  </tbody>\n",
       "</table>\n",
       "</div>"
      ],
      "text/plain": [
       "                           cook_time                 prep_time       \\\n",
       "                                 min  max       mean       min  max   \n",
       "flavor_profile course                                                 \n",
       "Others         main course        -1   60  22.346154        -1  495   \n",
       "               snack              -1   45  24.666667        -1   30   \n",
       "bitter         main course        30   50  40.000000        10   20   \n",
       "               snack              30   30  30.000000        15   15   \n",
       "sour           main course        10   10  10.000000        10   10   \n",
       "spicy          main course        -1  120  31.250000        -1  500   \n",
       "               snack              -1   90  29.457143        -1  360   \n",
       "               starter            30   45  37.500000       120  240   \n",
       "sweet          dessert            -1  720  44.154762        -1  480   \n",
       "               main course        30   60  50.000000        10  180   \n",
       "\n",
       "                                        \n",
       "                                  mean  \n",
       "flavor_profile course                   \n",
       "Others         main course   38.884615  \n",
       "               snack         13.000000  \n",
       "bitter         main course   15.000000  \n",
       "               snack         15.000000  \n",
       "sour           main course   10.000000  \n",
       "spicy          main course   20.625000  \n",
       "               snack         56.371429  \n",
       "               starter      180.000000  \n",
       "sweet          dessert       27.250000  \n",
       "               main course   66.666667  "
      ]
     },
     "execution_count": 46,
     "metadata": {},
     "output_type": "execute_result"
    }
   ],
   "source": [
    "#min, max and average cooking and prep times per flavor profile and course combination\n",
    "\n",
    "d=df.groupby([\"flavor_profile\",\"course\"])[\"cook_time\",\"prep_time\"].agg([\"min\",\"max\",\"mean\"])\n",
    "pd.DataFrame(d)"
   ]
  },
  {
   "cell_type": "code",
   "execution_count": 45,
   "id": "a729be6b",
   "metadata": {},
   "outputs": [
    {
     "data": {
      "text/html": [
       "<div>\n",
       "<style scoped>\n",
       "    .dataframe tbody tr th:only-of-type {\n",
       "        vertical-align: middle;\n",
       "    }\n",
       "\n",
       "    .dataframe tbody tr th {\n",
       "        vertical-align: top;\n",
       "    }\n",
       "\n",
       "    .dataframe thead th {\n",
       "        text-align: right;\n",
       "    }\n",
       "</style>\n",
       "<table border=\"1\" class=\"dataframe\">\n",
       "  <thead>\n",
       "    <tr style=\"text-align: right;\">\n",
       "      <th></th>\n",
       "      <th>state</th>\n",
       "      <th>name</th>\n",
       "    </tr>\n",
       "  </thead>\n",
       "  <tbody>\n",
       "    <tr>\n",
       "      <th>6</th>\n",
       "      <td>Gujarat</td>\n",
       "      <td>35</td>\n",
       "    </tr>\n",
       "    <tr>\n",
       "      <th>17</th>\n",
       "      <td>Punjab</td>\n",
       "      <td>32</td>\n",
       "    </tr>\n",
       "    <tr>\n",
       "      <th>12</th>\n",
       "      <td>Maharashtra</td>\n",
       "      <td>30</td>\n",
       "    </tr>\n",
       "    <tr>\n",
       "      <th>0</th>\n",
       "      <td>-1</td>\n",
       "      <td>24</td>\n",
       "    </tr>\n",
       "    <tr>\n",
       "      <th>24</th>\n",
       "      <td>West Bengal</td>\n",
       "      <td>24</td>\n",
       "    </tr>\n",
       "    <tr>\n",
       "      <th>2</th>\n",
       "      <td>Assam</td>\n",
       "      <td>21</td>\n",
       "    </tr>\n",
       "    <tr>\n",
       "      <th>19</th>\n",
       "      <td>Tamil Nadu</td>\n",
       "      <td>20</td>\n",
       "    </tr>\n",
       "    <tr>\n",
       "      <th>1</th>\n",
       "      <td>Andhra Pradesh</td>\n",
       "      <td>10</td>\n",
       "    </tr>\n",
       "    <tr>\n",
       "      <th>10</th>\n",
       "      <td>Kerala</td>\n",
       "      <td>8</td>\n",
       "    </tr>\n",
       "    <tr>\n",
       "      <th>22</th>\n",
       "      <td>Uttar Pradesh</td>\n",
       "      <td>8</td>\n",
       "    </tr>\n",
       "    <tr>\n",
       "      <th>16</th>\n",
       "      <td>Odisha</td>\n",
       "      <td>7</td>\n",
       "    </tr>\n",
       "    <tr>\n",
       "      <th>9</th>\n",
       "      <td>Karnataka</td>\n",
       "      <td>6</td>\n",
       "    </tr>\n",
       "    <tr>\n",
       "      <th>18</th>\n",
       "      <td>Rajasthan</td>\n",
       "      <td>6</td>\n",
       "    </tr>\n",
       "    <tr>\n",
       "      <th>20</th>\n",
       "      <td>Telangana</td>\n",
       "      <td>5</td>\n",
       "    </tr>\n",
       "    <tr>\n",
       "      <th>5</th>\n",
       "      <td>Goa</td>\n",
       "      <td>3</td>\n",
       "    </tr>\n",
       "    <tr>\n",
       "      <th>3</th>\n",
       "      <td>Bihar</td>\n",
       "      <td>3</td>\n",
       "    </tr>\n",
       "    <tr>\n",
       "      <th>8</th>\n",
       "      <td>Jammu &amp; Kashmir</td>\n",
       "      <td>2</td>\n",
       "    </tr>\n",
       "    <tr>\n",
       "      <th>11</th>\n",
       "      <td>Madhya Pradesh</td>\n",
       "      <td>2</td>\n",
       "    </tr>\n",
       "    <tr>\n",
       "      <th>13</th>\n",
       "      <td>Manipur</td>\n",
       "      <td>2</td>\n",
       "    </tr>\n",
       "    <tr>\n",
       "      <th>21</th>\n",
       "      <td>Tripura</td>\n",
       "      <td>1</td>\n",
       "    </tr>\n",
       "    <tr>\n",
       "      <th>23</th>\n",
       "      <td>Uttarakhand</td>\n",
       "      <td>1</td>\n",
       "    </tr>\n",
       "    <tr>\n",
       "      <th>4</th>\n",
       "      <td>Chhattisgarh</td>\n",
       "      <td>1</td>\n",
       "    </tr>\n",
       "    <tr>\n",
       "      <th>15</th>\n",
       "      <td>Nagaland</td>\n",
       "      <td>1</td>\n",
       "    </tr>\n",
       "    <tr>\n",
       "      <th>7</th>\n",
       "      <td>Haryana</td>\n",
       "      <td>1</td>\n",
       "    </tr>\n",
       "    <tr>\n",
       "      <th>14</th>\n",
       "      <td>NCT of Delhi</td>\n",
       "      <td>1</td>\n",
       "    </tr>\n",
       "  </tbody>\n",
       "</table>\n",
       "</div>"
      ],
      "text/plain": [
       "              state  name\n",
       "6           Gujarat    35\n",
       "17           Punjab    32\n",
       "12      Maharashtra    30\n",
       "0                -1    24\n",
       "24      West Bengal    24\n",
       "2             Assam    21\n",
       "19       Tamil Nadu    20\n",
       "1    Andhra Pradesh    10\n",
       "10           Kerala     8\n",
       "22    Uttar Pradesh     8\n",
       "16           Odisha     7\n",
       "9         Karnataka     6\n",
       "18        Rajasthan     6\n",
       "20        Telangana     5\n",
       "5               Goa     3\n",
       "3             Bihar     3\n",
       "8   Jammu & Kashmir     2\n",
       "11   Madhya Pradesh     2\n",
       "13          Manipur     2\n",
       "21          Tripura     1\n",
       "23      Uttarakhand     1\n",
       "4      Chhattisgarh     1\n",
       "15         Nagaland     1\n",
       "7           Haryana     1\n",
       "14     NCT of Delhi     1"
      ]
     },
     "execution_count": 45,
     "metadata": {},
     "output_type": "execute_result"
    }
   ],
   "source": [
    "#items by states\n",
    "\n",
    "item=df.groupby([\"state\"])[\"name\"].count().reset_index()\n",
    "item.sort_values(by=\"name\",ascending=False,inplace=True)\n",
    "pd.DataFrame(item)"
   ]
  },
  {
   "cell_type": "code",
   "execution_count": 53,
   "id": "ffb983f5",
   "metadata": {},
   "outputs": [
    {
     "data": {
      "image/png": "[encoded data removed]",
      "text/plain": [
       "<Figure size 648x648 with 1 Axes>"
      ]
     },
     "metadata": {
      "needs_background": "light"
     },
     "output_type": "display_data"
    }
   ],
   "source": [
    "plt.figure(figsize=(9,9))\n",
    "df.groupby([\"state\"])[\"name\"].count().plot.barh(x=\"state\")\n",
    "plt.show()"
   ]
  },
  {
   "cell_type": "markdown",
   "id": "dea3cd8f",
   "metadata": {},
   "source": [
    "# Let's Answer some intresting question:"
   ]
  },
  {
   "cell_type": "markdown",
   "id": "0fc15184",
   "metadata": {},
   "source": [
    "# Q1. Most of the dishes comes under, which type of diet?"
   ]
  },
  {
   "cell_type": "code",
   "execution_count": 90,
   "id": "2ba90526",
   "metadata": {},
   "outputs": [
    {
     "data": {
      "text/plain": [
       "255"
      ]
     },
     "execution_count": 90,
     "metadata": {},
     "output_type": "execute_result"
    }
   ],
   "source": [
    "df[\"diet\"].value_counts().sum()"
   ]
  },
  {
   "cell_type": "markdown",
   "id": "f9764220",
   "metadata": {},
   "source": [
    "255 dishes comes under veg category"
   ]
  },
  {
   "cell_type": "markdown",
   "id": "28907627",
   "metadata": {},
   "source": [
    "# Q2: Which are the top three states in India having highest number of dishes?"
   ]
  },
  {
   "cell_type": "code",
   "execution_count": 94,
   "id": "e56e29fd",
   "metadata": {},
   "outputs": [
    {
     "data": {
      "text/plain": [
       "Gujarat        35\n",
       "Punjab         32\n",
       "Maharashtra    30\n",
       "Name: state, dtype: int64"
      ]
     },
     "execution_count": 94,
     "metadata": {},
     "output_type": "execute_result"
    }
   ],
   "source": [
    "df[\"state\"].value_counts().head(3)"
   ]
  },
  {
   "cell_type": "markdown",
   "id": "f4cff110",
   "metadata": {},
   "source": [
    "Top three Indian states having highest number of dishes are Punjab, Gujarat, and Maharashtra."
   ]
  },
  {
   "cell_type": "markdown",
   "id": "03f5d0a5",
   "metadata": {},
   "source": [
    "# Q3: Most of the Indian dishes comes under, Which type of course?"
   ]
  },
  {
   "cell_type": "code",
   "execution_count": 95,
   "id": "c35a327f",
   "metadata": {},
   "outputs": [
    {
     "data": {
      "text/plain": [
       "main course    129\n",
       "dessert         85\n",
       "snack           39\n",
       "starter          2\n",
       "Name: course, dtype: int64"
      ]
     },
     "execution_count": 95,
     "metadata": {},
     "output_type": "execute_result"
    }
   ],
   "source": [
    "df[\"course\"].value_counts()"
   ]
  },
  {
   "cell_type": "markdown",
   "id": "a2d4036e",
   "metadata": {},
   "source": [
    "Most of the Indian dishes comes under Main-course category."
   ]
  },
  {
   "cell_type": "markdown",
   "id": "14cf424d",
   "metadata": {},
   "source": [
    "# Q4: What type of flavor Most of the Indians prefer in the various dishes?"
   ]
  },
  {
   "cell_type": "code",
   "execution_count": 96,
   "id": "552b1632",
   "metadata": {},
   "outputs": [
    {
     "data": {
      "text/plain": [
       "spicy     133\n",
       "sweet      88\n",
       "-1         29\n",
       "bitter      4\n",
       "sour        1\n",
       "Name: flavor_profile, dtype: int64"
      ]
     },
     "execution_count": 96,
     "metadata": {},
     "output_type": "execute_result"
    }
   ],
   "source": [
    "df[\"flavor_profile\"].value_counts()"
   ]
  },
  {
   "cell_type": "markdown",
   "id": "e198f3c1",
   "metadata": {},
   "source": [
    " Most of the Indian likes spicy flavor in their dishes followed by sweet flavor."
   ]
  },
  {
   "cell_type": "markdown",
   "id": "892071ce",
   "metadata": {},
   "source": [
    "# Q5: Which region of India has the highest and the least number of dishes?"
   ]
  },
  {
   "cell_type": "code",
   "execution_count": 97,
   "id": "6f7acb64",
   "metadata": {},
   "outputs": [
    {
     "data": {
      "text/plain": [
       "West          74\n",
       "South         59\n",
       "North         49\n",
       "East          31\n",
       "North East    25\n",
       "-1            13\n",
       "Central        3\n",
       "Name: region, dtype: int64"
      ]
     },
     "execution_count": 97,
     "metadata": {},
     "output_type": "execute_result"
    }
   ],
   "source": [
    "df[\"region\"].value_counts()"
   ]
  },
  {
   "cell_type": "markdown",
   "id": "b5cda586",
   "metadata": {},
   "source": [
    "West India has the highest number of dishes and Central India has the least number of dishes.\n"
   ]
  },
  {
   "cell_type": "markdown",
   "id": "6572257b",
   "metadata": {},
   "source": [
    "# Inferences and Conclusion:\n",
    "\n",
    "1.Most of the Indian dishes are Vegetarian.\n",
    "\n",
    "2.Large number of Indian dishes have spicy flavor.\n",
    "\n",
    "3.A large number of Indain dishes are served as main course.\n",
    "\n",
    "4.Punjab has the highest number of dishes followed by Gujarat."
   ]
  },
  {
   "cell_type": "code",
   "execution_count": null,
   "id": "f3198abd",
   "metadata": {},
   "outputs": [],
   "source": []
  }
 ],
 "metadata": {
  "kernelspec": {
   "display_name": "Python 3",
   "language": "python",
   "name": "python3"
  },
  "language_info": {
   "codemirror_mode": {
    "name": "ipython",
    "version": 3
   },
   "file_extension": ".py",
   "mimetype": "text/x-python",
   "name": "python",
   "nbconvert_exporter": "python",
   "pygments_lexer": "ipython3",
   "version": "3.8.8"
  }
 },
 "nbformat": 4,
 "nbformat_minor": 5
}
